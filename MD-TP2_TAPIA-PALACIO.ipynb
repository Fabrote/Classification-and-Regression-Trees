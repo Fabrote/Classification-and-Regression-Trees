{
 "cells": [
  {
   "cell_type": "markdown",
   "id": "3608b20e",
   "metadata": {},
   "source": [
    "# TP N°2 — Minería de Datos (TUIA)\n",
    "**Año:** 2025 • **Materia:** Data Mining • **Integrantes:** Fabrizio Tapia, Sebastian Palacio\n",
    "\n",
    "**Dataset:**  ##################  \n",
    "**Objetivo:**  ##################\n"
   ]
  },
  {
   "cell_type": "code",
   "execution_count": null,
   "id": "c77a768d",
   "metadata": {},
   "outputs": [],
   "source": []
  }
 ],
 "metadata": {
  "language_info": {
   "name": "python"
  }
 },
 "nbformat": 4,
 "nbformat_minor": 5
}
